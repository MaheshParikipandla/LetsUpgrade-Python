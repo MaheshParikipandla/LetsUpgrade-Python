{
 "cells": [
  {
   "cell_type": "markdown",
   "metadata": {},
   "source": [
    "# Assignment 2"
   ]
  },
  {
   "cell_type": "code",
   "execution_count": 18,
   "metadata": {},
   "outputs": [],
   "source": [
    "import math"
   ]
  },
  {
   "cell_type": "code",
   "execution_count": 19,
   "metadata": {},
   "outputs": [],
   "source": [
    "class Cone():\n",
    "    def __init__(self,radius,height):\n",
    "        self.radius=radius\n",
    "        self.height=height\n",
    "        \n",
    "    def getdetails(self):\n",
    "        print(\"radius\",self.radius)\n",
    "        print(\"height\",self.height)\n",
    "        \n",
    "    def volume(self):\n",
    "        vol=(1/3)*math.pi*self.radius*self.radius*self.height\n",
    "        print(\"volume of cone:\",str(vol))\n",
    "    def surfacearea(self):\n",
    "        base=math.pi*self.radius*self.radius\n",
    "        side=math.pi*self.radius*math.sqrt(self.radius*self.radius+self.height*self.height)\n",
    "        print(\"surface area of cone base\",str(base))\n",
    "        print(\"surface area of cone side\",str(side))"
   ]
  },
  {
   "cell_type": "code",
   "execution_count": 20,
   "metadata": {},
   "outputs": [],
   "source": [
    "res=Cone(10,12)"
   ]
  },
  {
   "cell_type": "code",
   "execution_count": 21,
   "metadata": {},
   "outputs": [
    {
     "name": "stdout",
     "output_type": "stream",
     "text": [
      "radius 10\n",
      "height 12\n"
     ]
    }
   ],
   "source": [
    "res.getdetails()"
   ]
  },
  {
   "cell_type": "code",
   "execution_count": 24,
   "metadata": {},
   "outputs": [
    {
     "name": "stdout",
     "output_type": "stream",
     "text": [
      "volume of cone: 1256.637061435917\n"
     ]
    }
   ],
   "source": [
    "res.volume()"
   ]
  },
  {
   "cell_type": "code",
   "execution_count": 26,
   "metadata": {},
   "outputs": [
    {
     "name": "stdout",
     "output_type": "stream",
     "text": [
      "surface area of cone base 314.1592653589793\n",
      "surface area of cone side 490.73246009060813\n"
     ]
    }
   ],
   "source": [
    "res.surfacearea()"
   ]
  },
  {
   "cell_type": "markdown",
   "metadata": {},
   "source": [
    "# Assignment 1"
   ]
  },
  {
   "cell_type": "code",
   "execution_count": 7,
   "metadata": {},
   "outputs": [],
   "source": [
    "class Bank_account():\n",
    "    def __init__(self,ownername,balance):\n",
    "        self.ownername=ownername\n",
    "        self.balance=balance\n",
    "    def getdetails(self):\n",
    "        print(\"ownername:\",self.ownername)\n",
    "        print(\"balance:\",self.balance)\n",
    "        \n",
    "    def deposit(self):\n",
    "        amount=float(input(\"enter the amount to deposited:\"))\n",
    "        self.balance += amount\n",
    "        print(\"enter the amount deposited:\",amount)\n",
    "    def withdraw(self):\n",
    "        amount=float(input(\"enter the amount to be withdrawn:\"))\n",
    "        if (self.balance>=amount):\n",
    "            self.balance=self.balance-amount\n",
    "            print(\"amount withdrawn is:\",amount)\n",
    "        else:\n",
    "            print('Balance is not insufficient')\n",
    "        \n",
    "        "
   ]
  },
  {
   "cell_type": "code",
   "execution_count": 8,
   "metadata": {},
   "outputs": [],
   "source": [
    "account=Bank_account('Mahesh',15500)\n",
    "        "
   ]
  },
  {
   "cell_type": "code",
   "execution_count": 11,
   "metadata": {},
   "outputs": [
    {
     "name": "stdout",
     "output_type": "stream",
     "text": [
      "ownername Mahesh\n",
      "balance 15500\n"
     ]
    }
   ],
   "source": [
    "account.getdetails()"
   ]
  },
  {
   "cell_type": "code",
   "execution_count": 12,
   "metadata": {},
   "outputs": [
    {
     "name": "stdout",
     "output_type": "stream",
     "text": [
      "enter the amount to deposited:5000\n",
      "enter the amount deposited: 5000.0\n"
     ]
    }
   ],
   "source": [
    "account.deposit()"
   ]
  },
  {
   "cell_type": "code",
   "execution_count": 13,
   "metadata": {},
   "outputs": [
    {
     "name": "stdout",
     "output_type": "stream",
     "text": [
      "enter the amount to be withdrawn:2500\n",
      "amount withdrawn is: 2500.0\n"
     ]
    }
   ],
   "source": [
    "account.withdraw()"
   ]
  },
  {
   "cell_type": "code",
   "execution_count": 14,
   "metadata": {},
   "outputs": [
    {
     "name": "stdout",
     "output_type": "stream",
     "text": [
      "ownername Mahesh\n",
      "balance 18000.0\n"
     ]
    }
   ],
   "source": [
    "account.getdetails()"
   ]
  },
  {
   "cell_type": "code",
   "execution_count": null,
   "metadata": {},
   "outputs": [],
   "source": []
  }
 ],
 "metadata": {
  "kernelspec": {
   "display_name": "Python 3",
   "language": "python",
   "name": "python3"
  },
  "language_info": {
   "codemirror_mode": {
    "name": "ipython",
    "version": 3
   },
   "file_extension": ".py",
   "mimetype": "text/x-python",
   "name": "python",
   "nbconvert_exporter": "python",
   "pygments_lexer": "ipython3",
   "version": "3.7.6"
  }
 },
 "nbformat": 4,
 "nbformat_minor": 4
}
